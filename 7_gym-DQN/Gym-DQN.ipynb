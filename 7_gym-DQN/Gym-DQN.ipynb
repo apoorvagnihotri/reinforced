{
 "cells": [
  {
   "cell_type": "code",
   "execution_count": 1,
   "metadata": {
    "ExecuteTime": {
     "end_time": "2020-12-21T18:05:51.257918Z",
     "start_time": "2020-12-21T18:05:51.251728Z"
    }
   },
   "outputs": [],
   "source": [
    "import gymnasium as gym\n",
    "from gymnasium import spaces\n",
    "import numpy as np\n",
    "import itertools\n",
    "import time\n",
    "import torch\n",
    "import pylab as plt\n",
    "# %matplotlib inline\n",
    "# %matplotlib notebook\n",
    "from mpl_toolkits.mplot3d import Axes3D\n",
    "from matplotlib import cm\n",
    "\n",
    "import memory as mem   \n",
    "from feedforward import Feedforward"
   ]
  },
  {
   "cell_type": "markdown",
   "metadata": {},
   "source": [
    "## Helper Functions"
   ]
  },
  {
   "cell_type": "code",
   "execution_count": 2,
   "metadata": {
    "ExecuteTime": {
     "end_time": "2020-12-21T18:06:39.417731Z",
     "start_time": "2020-12-21T18:06:39.410580Z"
    }
   },
   "outputs": [],
   "source": [
    "def running_mean(x, N):\n",
    "    cumsum = np.cumsum(np.insert(x, 0, 0)) \n",
    "    return (cumsum[N:] - cumsum[:-N]) / float(N)"
   ]
  },
  {
   "cell_type": "code",
   "execution_count": 3,
   "metadata": {},
   "outputs": [],
   "source": [
    "class DiscreteActionWrapper(gym.ActionWrapper):\n",
    "    def __init__(self, env: gym.Env, bins = 5):\n",
    "        \"\"\"A wrapper for converting a 1D continuous actions into discrete ones.\n",
    "        Args:\n",
    "            env: The environment to apply the wrapper\n",
    "            bins: number of discrete actions\n",
    "        \"\"\"\n",
    "        assert isinstance(env.action_space, spaces.Box)\n",
    "        super().__init__(env)\n",
    "        self.bins = bins\n",
    "        self.orig_action_space = env.action_space\n",
    "        self.action_space = spaces.Discrete(self.bins)\n",
    "\n",
    "    def action(self, action):\n",
    "        \"\"\" discrete actions from low to high in 'bins'\n",
    "        Args:\n",
    "            action: The discrete action\n",
    "        Returns:\n",
    "            continuous action\n",
    "        \"\"\"\n",
    "        return self.orig_action_space.low + action/(self.bins-1.0)*(self.orig_action_space.high-self.orig_action_space.low)  "
   ]
  },
  {
   "cell_type": "markdown",
   "metadata": {},
   "source": [
    "# DQN"
   ]
  },
  {
   "cell_type": "markdown",
   "metadata": {},
   "source": [
    "Complete the implemenation of DQN with a main Q-network and a target Q-network"
   ]
  },
  {
   "cell_type": "code",
   "execution_count": 4,
   "metadata": {
    "ExecuteTime": {
     "end_time": "2020-12-21T18:59:28.812749Z",
     "start_time": "2020-12-21T18:59:28.796517Z"
    }
   },
   "outputs": [],
   "source": [
    "\"\"\" Q Network, input: observations, output: q-values for all actions \"\"\"\n",
    "class QFunction(Feedforward):\n",
    "    def __init__(self, observation_dim, action_dim, \n",
    "                 hidden_sizes=[100,100], learning_rate = 0.0002):\n",
    "        super().__init__(input_size=observation_dim, \n",
    "                         hidden_sizes=hidden_sizes, \n",
    "                         output_size=action_dim)\n",
    "        self.optimizer=torch.optim.Adam(self.parameters(), \n",
    "                                        lr=learning_rate, \n",
    "                                        eps=0.000001)\n",
    "        # The L1 loss is often easier for choosing learning rates etc than for L2 (MSELoss)\n",
    "        #  Imagine larger q-values (in the hundreds) then an squared error can quickly be 10000!, \n",
    "        #  whereas the L1 (absolute) error is simply in the order of 100. \n",
    "        self.loss = torch.nn.SmoothL1Loss()\n",
    "        \n",
    "    def fit(self, observations, actions, targets):\n",
    "        \"\"\"\n",
    "        Train the Q-network on a batch of transitions\n",
    "        Args:\n",
    "            observations: Batch of states\n",
    "            actions: Batch of actions taken\n",
    "            targets: Target Q-values for the actions taken\n",
    "        Returns:\n",
    "            The loss value for this training step\n",
    "        \"\"\"\n",
    "        self.optimizer.zero_grad()\n",
    "        \n",
    "        # Get the current Q-values for the actions taken\n",
    "        current_q = self.Q_value(observations, actions)\n",
    "        \n",
    "        # Convert targets to tensor if necessary\n",
    "        if not isinstance(targets, torch.Tensor):\n",
    "            targets = torch.tensor(targets, dtype=torch.float32)\n",
    "            \n",
    "        # Compute the loss between current Q-values and targets\n",
    "        loss = self.loss(current_q, targets)\n",
    "        \n",
    "        # Backpropagate and update weights\n",
    "        loss.backward()\n",
    "        self.optimizer.step()\n",
    "        \n",
    "        return loss.item()\n",
    "    \n",
    "    def Q_value(self, observations, actions):\n",
    "        \"\"\"\n",
    "        Compute Q-values for specific state-action pairs\n",
    "        Args:\n",
    "            observations: Batch of states\n",
    "            actions: Batch of actions to evaluate\n",
    "        Returns:\n",
    "            Q-values for the given state-action pairs\n",
    "        \"\"\"\n",
    "        # Get all Q-values for each state\n",
    "        q_values = self.forward(observations)\n",
    "        \n",
    "        # Use gather to select the Q-values for the specific actions\n",
    "        # actions needs to be reshaped to [batch_size, 1] for gather\n",
    "        actions = actions.reshape(-1, 1)\n",
    "        selected_q_values = q_values.gather(1, actions)\n",
    "        \n",
    "        return selected_q_values.squeeze()\n",
    "\n",
    "    \n",
    "    def maxQ(self, observations):\n",
    "        \"\"\"\n",
    "        Compute the maximum Q-value for each state\n",
    "        Args:\n",
    "            observations: Batch of states\n",
    "        Returns:\n",
    "            Maximum Q-value for each state\n",
    "        \"\"\"\n",
    "        # Get all Q-values\n",
    "        q_values = self.forward(observations)\n",
    "        \n",
    "        # Get maximum Q-value for each state\n",
    "        max_q_values, _ = torch.max(q_values, dim=-1)\n",
    "        \n",
    "        return max_q_values\n",
    "\n",
    "    \n",
    "    def greedyAction(self, observations):\n",
    "        # this computes the greedy action\n",
    "        return np.argmax(self.predict(observations), axis=-1)"
   ]
  },
  {
   "cell_type": "code",
   "execution_count": 5,
   "metadata": {
    "ExecuteTime": {
     "end_time": "2020-12-21T19:24:52.568800Z",
     "start_time": "2020-12-21T19:24:52.557112Z"
    }
   },
   "outputs": [],
   "source": [
    "class DQNAgent(object):\n",
    "    \"\"\"\n",
    "    Agent implementing Q-learning with NN function approximation.    \n",
    "    \"\"\"\n",
    "    def __init__(self, observation_space, action_space, **userconfig):\n",
    "        \n",
    "        if not isinstance(observation_space, spaces.box.Box):\n",
    "            raise UnsupportedSpace('Observation space {} incompatible ' \\\n",
    "                                   'with {}. (Require: Box)'.format(observation_space, self))\n",
    "        if not isinstance(action_space, spaces.discrete.Discrete):\n",
    "            raise UnsupportedSpace('Action space {} incompatible with {}.' \\\n",
    "                                   ' (Reqire Discrete.)'.format(action_space, self))\n",
    "        \n",
    "        self._observation_space = observation_space\n",
    "        self._action_space = action_space\n",
    "        self._action_n = action_space.n\n",
    "        self._config = {\n",
    "            \"eps\": 0.05,            # Epsilon in epsilon greedy policies                        \n",
    "            \"discount\": 0.95,\n",
    "            \"buffer_size\": int(1e5),\n",
    "            \"batch_size\": 128,\n",
    "            \"learning_rate\": 0.0002, \n",
    "            # add additional parameters here        \n",
    "        }\n",
    "        self._config.update(userconfig)        \n",
    "        self._eps = self._config['eps']\n",
    "        self.buffer = mem.Memory(max_size=self._config[\"buffer_size\"])\n",
    "        \n",
    "        # Initialize Q networks (main and target)\n",
    "        observation_dim = observation_space.shape[0]\n",
    "        self.Q = QFunction(\n",
    "            observation_dim=observation_dim,\n",
    "            action_dim=self._action_n,\n",
    "            hidden_sizes=self._config[\"hidden_sizes\"],\n",
    "            learning_rate=self._config[\"learning_rate\"],\n",
    "        )\n",
    "        \n",
    "        # Initialize target network with same architecture\n",
    "        self.Q_target = QFunction(\n",
    "            observation_dim=observation_dim,\n",
    "            action_dim=self._action_n,\n",
    "            hidden_sizes=self._config[\"hidden_sizes\"],\n",
    "            learning_rate=self._config[\"learning_rate\"],\n",
    "        )\n",
    "        \n",
    "        # Initialize target network with same weights as main network\n",
    "        self._update_target_net()\n",
    "        \n",
    "        self.train_iter = 0\n",
    "\n",
    "            \n",
    "    def _update_target_net(self):        \n",
    "        \"\"\"Copy parameters from main Q network to target Q network\"\"\"\n",
    "        self.Q_target.load_state_dict(self.Q.state_dict())\n",
    "    \n",
    "    def act(self, observation, eps=None):\n",
    "        if eps is None:\n",
    "            eps = self._eps\n",
    "        # epsilon greedy\n",
    "        if np.random.random() > eps:\n",
    "            action = self.Q.greedyAction(observation)\n",
    "        else: \n",
    "            action = self._action_space.sample()        \n",
    "        return action\n",
    "    \n",
    "    def store_transition(self, transition):\n",
    "        self.buffer.add_transition(transition)\n",
    "            \n",
    "    def train(self, iter_fit=32):\n",
    "        \"\"\"\n",
    "        Train the DQN agent on batches of experience.\n",
    "        Args:\n",
    "            iter_fit: Number of training iterations\n",
    "        Returns:\n",
    "            List of loss values for each training iteration\n",
    "        \"\"\"\n",
    "        losses = []\n",
    "        \n",
    "        # Update target network if needed\n",
    "        if self.train_iter % self._config[\"target_update_freq\"] == 0:\n",
    "            self._update_target_net()\n",
    "        \n",
    "        for i in range(iter_fit):\n",
    "            # Sample batch of transitions\n",
    "            batch = self.buffer.sample(batch=self._config[\"batch_size\"])\n",
    "            \n",
    "            # Extract SARS' components from transitions\n",
    "            # Assuming transitions are stored as (state, action, reward, next_state, done)\n",
    "            states = torch.tensor(np.vstack([t[0] for t in batch]), dtype=torch.float32)\n",
    "            actions = torch.tensor([t[1] for t in batch], dtype=torch.long)\n",
    "            rewards = torch.tensor([t[2] for t in batch], dtype=torch.float32)\n",
    "            next_states = torch.tensor(np.vstack([t[3] for t in batch]), dtype=torch.float32)\n",
    "            dones = torch.tensor([t[4] for t in batch], dtype=torch.float32)\n",
    "            \n",
    "            # Compute target Q values\n",
    "            with torch.no_grad():  # Don't compute gradient info for target network\n",
    "                # Get maximum Q value for next states using target network\n",
    "                next_q_values = self.Q_target.maxQ(next_states)\n",
    "                \n",
    "                # Compute target using Bellman equation\n",
    "                # target = r + gamma * max_a' Q(s', a') for non-terminal states\n",
    "                # target = r for terminal states\n",
    "                targets = rewards + (1 - dones) * self._config[\"discount\"] * next_q_values\n",
    "            \n",
    "            # Train the network\n",
    "            fit_loss = self.Q.fit(states, actions, targets)\n",
    "            losses.append(fit_loss)\n",
    "            \n",
    "            self.train_iter += 1\n",
    "            \n",
    "        return losses\n"
   ]
  },
  {
   "cell_type": "markdown",
   "metadata": {},
   "source": [
    "## Test in Env"
   ]
  },
  {
   "cell_type": "code",
   "execution_count": 6,
   "metadata": {
    "ExecuteTime": {
     "end_time": "2020-12-21T19:02:22.784840Z",
     "start_time": "2020-12-21T19:02:22.774564Z"
    }
   },
   "outputs": [
    {
     "name": "stdout",
     "output_type": "stream",
     "text": [
      "Discrete(5)\n",
      "Box([-1. -1. -8.], [1. 1. 8.], (3,), float32)\n",
      "[(-1.0, 1.0), (-1.0, 1.0), (-8.0, 8.0)]\n"
     ]
    }
   ],
   "source": [
    "env_name = 'Pendulum-v1'\n",
    "# env_name = 'CartPole-v1'\n",
    "\n",
    "env = gym.make(env_name)\n",
    "if isinstance(env.action_space, spaces.Box):\n",
    "    env = DiscreteActionWrapper(env,5)\n",
    "\n",
    "ac_space = env.action_space\n",
    "o_space = env.observation_space\n",
    "print(ac_space)\n",
    "print(o_space)\n",
    "print(list(zip(env.observation_space.low, env.observation_space.high)))"
   ]
  },
  {
   "cell_type": "code",
   "execution_count": 7,
   "metadata": {
    "ExecuteTime": {
     "end_time": "2020-12-21T19:02:23.234105Z",
     "start_time": "2020-12-21T19:02:23.223995Z"
    },
    "scrolled": true
   },
   "outputs": [],
   "source": [
    "q_agent = DQNAgent(\n",
    "    o_space, ac_space, discount=0.95, eps=0.2,\n",
    "    hidden_sizes=[8,8], target_update_freq=15, learning_rate=0.00005,\n",
    "    batch_size=64\n",
    ")"
   ]
  },
  {
   "cell_type": "code",
   "execution_count": 8,
   "metadata": {
    "ExecuteTime": {
     "end_time": "2020-12-21T19:02:23.835298Z",
     "start_time": "2020-12-21T19:02:23.825910Z"
    }
   },
   "outputs": [
    {
     "data": {
      "text/plain": [
       "array([-0.12028004,  0.10085469, -0.42413336,  0.52512014, -0.28168952],\n",
       "      dtype=float32)"
      ]
     },
     "execution_count": 8,
     "metadata": {},
     "output_type": "execute_result"
    }
   ],
   "source": [
    "ob,_info = env.reset()\n",
    "q_agent.Q.predict(ob)"
   ]
  },
  {
   "cell_type": "markdown",
   "metadata": {},
   "source": [
    "Train the agent!"
   ]
  },
  {
   "cell_type": "code",
   "execution_count": 9,
   "metadata": {
    "ExecuteTime": {
     "end_time": "2020-12-21T19:02:24.886780Z",
     "start_time": "2020-12-21T19:02:24.882514Z"
    }
   },
   "outputs": [],
   "source": [
    "stats = []\n",
    "losses = []"
   ]
  },
  {
   "cell_type": "code",
   "execution_count": 10,
   "metadata": {
    "ExecuteTime": {
     "end_time": "2020-12-21T19:03:37.085509Z",
     "start_time": "2020-12-21T19:02:25.394222Z"
    }
   },
   "outputs": [
    {
     "name": "stdout",
     "output_type": "stream",
     "text": [
      "1: Done after 300 steps. Reward: -2325.161273954552\n",
      "21: Done after 300 steps. Reward: -2602.6137574293684\n",
      "41: Done after 300 steps. Reward: -2644.274256973831\n",
      "61: Done after 300 steps. Reward: -2881.721975146388\n",
      "81: Done after 300 steps. Reward: -2397.2767682245235\n",
      "101: Done after 300 steps. Reward: -2374.3794901650936\n",
      "121: Done after 300 steps. Reward: -2660.4284657730564\n",
      "141: Done after 300 steps. Reward: -2848.630460908007\n",
      "161: Done after 300 steps. Reward: -2407.867042482147\n",
      "181: Done after 300 steps. Reward: -2560.436864041461\n",
      "201: Done after 300 steps. Reward: -2706.580648524904\n",
      "221: Done after 300 steps. Reward: -2223.0559362281056\n",
      "241: Done after 300 steps. Reward: -1955.1978573329936\n",
      "261: Done after 300 steps. Reward: -2624.9894403632034\n",
      "281: Done after 300 steps. Reward: -2110.2995864735335\n",
      "301: Done after 300 steps. Reward: -1742.9866334335088\n",
      "321: Done after 300 steps. Reward: -2122.1373212203707\n",
      "341: Done after 300 steps. Reward: -2171.5456365023397\n",
      "361: Done after 300 steps. Reward: -2403.571234707647\n",
      "381: Done after 300 steps. Reward: -1970.9570131938706\n"
     ]
    }
   ],
   "source": [
    "max_episodes=400\n",
    "max_steps=300 \n",
    "for i in range(max_episodes):\n",
    "    # print(\"Starting a new episode\")    \n",
    "    total_reward = 0\n",
    "    ob, _info = env.reset()\n",
    "    for t in range(max_steps):\n",
    "        done = False        \n",
    "        a = q_agent.act(ob)\n",
    "        (ob_new, reward, done, trunc, _info) = env.step(a)\n",
    "        total_reward+= reward\n",
    "        q_agent.store_transition((ob, a, reward, ob_new, done))            \n",
    "        ob=ob_new        \n",
    "        if done: break    \n",
    "    losses.extend(q_agent.train(32))\n",
    "    stats.append([i,total_reward,t+1])    \n",
    "    \n",
    "    if ((i-1)%20==0):\n",
    "        print(\"{}: Done after {} steps. Reward: {}\".format(i, t+1, total_reward))"
   ]
  },
  {
   "cell_type": "markdown",
   "metadata": {
    "ExecuteTime": {
     "end_time": "2020-12-21T19:29:28.951108Z",
     "start_time": "2020-12-21T19:29:28.946226Z"
    }
   },
   "source": [
    "Plot the training reward over time. Use the running_mean(array, window_size) to plot a smooth version "
   ]
  },
  {
   "cell_type": "code",
   "execution_count": 13,
   "metadata": {},
   "outputs": [],
   "source": [
    "def running_mean(array, window_size):\n",
    "    \"\"\"Calculate the running mean of an array using convolution.\"\"\"\n",
    "    if window_size > len(array):\n",
    "        window_size = len(array)\n",
    "    # Create a valid convolution window\n",
    "    window = np.ones(int(window_size)) / float(window_size)\n",
    "    # Use valid mode to avoid edge effects\n",
    "    return np.convolve(array, window, 'valid')\n",
    "\n",
    "def plot_training_progress(stats_np, losses_np, window_size=100):\n",
    "    \"\"\"Plot training progress with proper array handling.\"\"\"\n",
    "    # Extract rewards (assuming first column is rewards)\n",
    "    rewards = stats_np[:, 0] if stats_np.ndim > 1 else stats_np\n",
    "    \n",
    "    # Create figure\n",
    "    plt.figure(figsize=(12, 5))\n",
    "    \n",
    "    # Plot raw rewards\n",
    "    plt.subplot(1, 2, 1)\n",
    "    plt.plot(rewards, alpha=0.3, color='gray', label='Raw rewards')\n",
    "    \n",
    "    # Calculate and plot smoothed rewards\n",
    "    if len(rewards) >= window_size:\n",
    "        smoothed = running_mean(rewards, window_size)\n",
    "        # Create proper x-axis values for smoothed data\n",
    "        x_smooth = np.arange(window_size-1, len(rewards))\n",
    "        plt.plot(x_smooth, smoothed, \n",
    "                color='blue', linewidth=2, \n",
    "                label=f'Smoothed rewards (window={window_size})')\n",
    "    \n",
    "    plt.xlabel('Episode')\n",
    "    plt.ylabel('Episode Reward')\n",
    "    plt.title('Training Rewards')\n",
    "    plt.legend()\n",
    "    plt.grid(True, alpha=0.3)\n",
    "    \n",
    "    # Plot losses\n",
    "    plt.subplot(1, 2, 2)\n",
    "    plt.plot(losses_np, color='orange', alpha=0.8, label='Training loss')\n",
    "    plt.xlabel('Training step')\n",
    "    plt.ylabel('Loss')\n",
    "    plt.title('Training Loss')\n",
    "    plt.legend()\n",
    "    plt.grid(True, alpha=0.3)\n",
    "    \n",
    "    plt.tight_layout()\n",
    "    plt.show()\n"
   ]
  },
  {
   "cell_type": "code",
   "execution_count": 14,
   "metadata": {
    "ExecuteTime": {
     "end_time": "2020-12-21T19:29:48.979748Z",
     "start_time": "2020-12-21T19:29:48.974261Z"
    }
   },
   "outputs": [
    {
     "data": {
      "image/png": "[encoded data removed]",
      "text/plain": [
       "<Figure size 1200x500 with 2 Axes>"
      ]
     },
     "metadata": {},
     "output_type": "display_data"
    }
   ],
   "source": [
    "stats_np = np.asarray(stats)\n",
    "\n",
    "losses_np = np.asarray(losses)\n",
    "\n",
    "# Plot the training progress\n",
    "plot_training_progress(stats_np, losses_np)\n"
   ]
  },
  {
   "cell_type": "code",
   "execution_count": 15,
   "metadata": {
    "ExecuteTime": {
     "end_time": "2020-12-21T19:30:15.428055Z",
     "start_time": "2020-12-21T19:30:15.419265Z"
    }
   },
   "outputs": [
    {
     "data": {
      "text/plain": [
       "100000"
      ]
     },
     "execution_count": 15,
     "metadata": {},
     "output_type": "execute_result"
    }
   ],
   "source": [
    "q_agent.buffer.size"
   ]
  },
  {
   "cell_type": "markdown",
   "metadata": {},
   "source": [
    "## Evaluate (without exploration)"
   ]
  },
  {
   "cell_type": "markdown",
   "metadata": {},
   "source": [
    "Please look at the behavior for a small number of episodes"
   ]
  },
  {
   "cell_type": "code",
   "execution_count": 16,
   "metadata": {},
   "outputs": [],
   "source": [
    "env_eval = gym.make(env_name, render_mode=\"human\")\n",
    "if isinstance(env.action_space, spaces.Box):\n",
    "    env_eval = DiscreteActionWrapper(env_eval,5)"
   ]
  },
  {
   "cell_type": "code",
   "execution_count": 17,
   "metadata": {
    "ExecuteTime": {
     "end_time": "2020-12-21T19:04:24.675613Z",
     "start_time": "2020-12-21T19:04:23.832884Z"
    }
   },
   "outputs": [],
   "source": [
    "test_stats = []\n",
    "episodes=50\n",
    "env_ = env    # without rendering\n",
    "#env_ = env_eval # with rendering\n",
    "\n",
    "for i in range(episodes):\n",
    "    total_reward = 0\n",
    "    ob, _info = env_.reset()\n",
    "    for t in range(max_steps):\n",
    "        done = False        \n",
    "        a = q_agent.act(ob, eps=0.0)\n",
    "        (ob_new, reward, done, trunc, _info) = env_.step(a)\n",
    "        total_reward+= reward\n",
    "        ob=ob_new        \n",
    "        if done: break    \n",
    "    test_stats.append([i,total_reward,t+1])        "
   ]
  },
  {
   "cell_type": "markdown",
   "metadata": {},
   "source": [
    "Evaluate mean and standard deviation of performance \n",
    "\n",
    "(for the Pendulum: an average return around -30 or better should be achieved)\n",
    "\n",
    "(for the CartPendulum it is possible to get 200)"
   ]
  },
  {
   "cell_type": "code",
   "execution_count": 18,
   "metadata": {
    "ExecuteTime": {
     "end_time": "2020-12-21T19:32:07.922653Z",
     "start_time": "2020-12-21T19:32:07.918689Z"
    }
   },
   "outputs": [
    {
     "name": "stdout",
     "output_type": "stream",
     "text": [
      "\n",
      "Performance Statistics:\n",
      "------------------------------\n",
      "Overall Performance:\n",
      "Mean Reward: 199.50 ± 115.47\n",
      "\n",
      "Last 100 Episodes:\n",
      "Mean Reward: 349.50 ± 28.87\n",
      "\n",
      "Training Loss:\n",
      "Mean Loss: 6.9758 ± 0.4617\n"
     ]
    }
   ],
   "source": [
    "def evaluate_performance(stats_np, losses_np):\n",
    "    \"\"\"Calculate performance statistics from training data.\"\"\"\n",
    "    # Extract rewards from stats (assuming first column is rewards)\n",
    "    rewards = stats_np[:, 0]\n",
    "    \n",
    "    # Overall statistics\n",
    "    mean_reward = np.mean(rewards)\n",
    "    std_reward = np.std(rewards)\n",
    "    \n",
    "    # Last 100 episodes statistics\n",
    "    last_100_rewards = rewards[-100:]\n",
    "    mean_last_100 = np.mean(last_100_rewards)\n",
    "    std_last_100 = np.std(last_100_rewards)\n",
    "    \n",
    "    # Mean and std of losses\n",
    "    mean_loss = np.mean(losses_np)\n",
    "    std_loss = np.std(losses_np)\n",
    "    \n",
    "    # Print results\n",
    "    print(\"\\nPerformance Statistics:\")\n",
    "    print(\"-\" * 30)\n",
    "    print(f\"Overall Performance:\")\n",
    "    print(f\"Mean Reward: {mean_reward:.2f} ± {std_reward:.2f}\")\n",
    "    print(f\"\\nLast 100 Episodes:\")\n",
    "    print(f\"Mean Reward: {mean_last_100:.2f} ± {std_last_100:.2f}\")\n",
    "    print(f\"\\nTraining Loss:\")\n",
    "    print(f\"Mean Loss: {mean_loss:.4f} ± {std_loss:.4f}\")\n",
    "    \n",
    "    return {\n",
    "        'mean_reward': mean_reward,\n",
    "        'std_reward': std_reward,\n",
    "        'mean_last_100': mean_last_100,\n",
    "        'std_last_100': std_last_100,\n",
    "        'mean_loss': mean_loss,\n",
    "        'std_loss': std_loss\n",
    "    }\n",
    "\n",
    "# Example usage:\n",
    "stats_np = np.asarray(stats)\n",
    "losses_np = np.asarray(losses)\n",
    "performance_stats = evaluate_performance(stats_np, losses_np)\n"
   ]
  },
  {
   "cell_type": "markdown",
   "metadata": {},
   "source": [
    "# Visualize"
   ]
  },
  {
   "cell_type": "markdown",
   "metadata": {},
   "source": [
    "Visualization of the value function."
   ]
  },
  {
   "cell_type": "code",
   "execution_count": 24,
   "metadata": {},
   "outputs": [],
   "source": [
    "def plot_max_q_values(q_function, env, resolution=10):\n",
    "    \"\"\"\n",
    "    Plot the maximum Q-values across the state space.\n",
    "    \n",
    "    Args:\n",
    "        q_function: The trained Q-function\n",
    "        env: The environment (used to get state space bounds)\n",
    "        resolution: Number of points to evaluate along each dimension\n",
    "    \"\"\"\n",
    "    # Get state space bounds\n",
    "    low = env.observation_space.low\n",
    "    high = env.observation_space.high\n",
    "    \n",
    "    # Create grid of states\n",
    "    x = np.linspace(low[0], high[0], resolution)\n",
    "    y = np.linspace(low[1], high[1], resolution)\n",
    "    X, Y = np.meshgrid(x, y)\n",
    "    \n",
    "    # Calculate max Q values for each state\n",
    "    Z = np.zeros_like(X)\n",
    "    for i in range(resolution):\n",
    "        for j in range(resolution):\n",
    "            state = np.array([X[i,j], Y[i,j]])\n",
    "            # Convert state to tensor\n",
    "            state_tensor = torch.tensor(state.reshape(1, -1), dtype=torch.float32)\n",
    "            # Get maxQ value for this state\n",
    "            with torch.no_grad():  # No need to track gradients for visualization\n",
    "                Z[i,j] = q_function.maxQ(state_tensor).cpu().numpy()\n",
    "    \n",
    "    # Create the plot\n",
    "    plt.figure(figsize=(10, 8))\n",
    "    \n",
    "    # Plot max Q values\n",
    "    plt.pcolormesh(X, Y, Z, shading='auto', cmap='viridis')\n",
    "    colorbar = plt.colorbar(label='Max Q-Value')\n",
    "    \n",
    "    # Customize the plot\n",
    "    plt.title('Maximum Q-Values Across State Space')\n",
    "    plt.xlabel('Position')\n",
    "    plt.ylabel('Velocity')\n",
    "    \n",
    "    # Add a grid\n",
    "    plt.grid(True, alpha=0.3)\n",
    "    \n",
    "    # Optional: Add text with min/max values\n",
    "    plt.text(0.02, 1.02, f'Min Q: {Z.min():.2f}', transform=plt.gca().transAxes)\n",
    "    plt.text(0.85, 1.02, f'Max Q: {Z.max():.2f}', transform=plt.gca().transAxes)\n",
    "    \n",
    "    plt.show()\n"
   ]
  },
  {
   "cell_type": "code",
   "execution_count": 25,
   "metadata": {},
   "outputs": [
    {
     "ename": "RuntimeError",
     "evalue": "mat1 and mat2 shapes cannot be multiplied (1x2 and 3x8)",
     "output_type": "error",
     "traceback": [
      "\u001b[1;31m---------------------------------------------------------------------------\u001b[0m",
      "\u001b[1;31mRuntimeError\u001b[0m                              Traceback (most recent call last)",
      "Cell \u001b[1;32mIn[25], line 1\u001b[0m\n\u001b[1;32m----> 1\u001b[0m plot_max_q_values(q_agent\u001b[38;5;241m.\u001b[39mQ, env)\n",
      "Cell \u001b[1;32mIn[24], line 28\u001b[0m, in \u001b[0;36mplot_max_q_values\u001b[1;34m(q_function, env, resolution)\u001b[0m\n\u001b[0;32m     26\u001b[0m         \u001b[38;5;66;03m# Get maxQ value for this state\u001b[39;00m\n\u001b[0;32m     27\u001b[0m         \u001b[38;5;28;01mwith\u001b[39;00m torch\u001b[38;5;241m.\u001b[39mno_grad():  \u001b[38;5;66;03m# No need to track gradients for visualization\u001b[39;00m\n\u001b[1;32m---> 28\u001b[0m             Z[i,j] \u001b[38;5;241m=\u001b[39m q_function\u001b[38;5;241m.\u001b[39mmaxQ(state_tensor)\u001b[38;5;241m.\u001b[39mcpu()\u001b[38;5;241m.\u001b[39mnumpy()\n\u001b[0;32m     30\u001b[0m \u001b[38;5;66;03m# Create the plot\u001b[39;00m\n\u001b[0;32m     31\u001b[0m plt\u001b[38;5;241m.\u001b[39mfigure(figsize\u001b[38;5;241m=\u001b[39m(\u001b[38;5;241m10\u001b[39m, \u001b[38;5;241m8\u001b[39m))\n",
      "Cell \u001b[1;32mIn[4], line 73\u001b[0m, in \u001b[0;36mQFunction.maxQ\u001b[1;34m(self, observations)\u001b[0m\n\u001b[0;32m     65\u001b[0m \u001b[38;5;250m\u001b[39m\u001b[38;5;124;03m\"\"\"\u001b[39;00m\n\u001b[0;32m     66\u001b[0m \u001b[38;5;124;03mCompute the maximum Q-value for each state\u001b[39;00m\n\u001b[0;32m     67\u001b[0m \u001b[38;5;124;03mArgs:\u001b[39;00m\n\u001b[1;32m   (...)\u001b[0m\n\u001b[0;32m     70\u001b[0m \u001b[38;5;124;03m    Maximum Q-value for each state\u001b[39;00m\n\u001b[0;32m     71\u001b[0m \u001b[38;5;124;03m\"\"\"\u001b[39;00m\n\u001b[0;32m     72\u001b[0m \u001b[38;5;66;03m# Get all Q-values\u001b[39;00m\n\u001b[1;32m---> 73\u001b[0m q_values \u001b[38;5;241m=\u001b[39m \u001b[38;5;28mself\u001b[39m\u001b[38;5;241m.\u001b[39mforward(observations)\n\u001b[0;32m     75\u001b[0m \u001b[38;5;66;03m# Get maximum Q-value for each state\u001b[39;00m\n\u001b[0;32m     76\u001b[0m max_q_values, _ \u001b[38;5;241m=\u001b[39m torch\u001b[38;5;241m.\u001b[39mmax(q_values, dim\u001b[38;5;241m=\u001b[39m\u001b[38;5;241m-\u001b[39m\u001b[38;5;241m1\u001b[39m)\n",
      "File \u001b[1;32mc:\\Users\\apagnih\\Desktop\\github\\reinforced\\7_gym-DQN\\feedforward.py:17\u001b[0m, in \u001b[0;36mFeedforward.forward\u001b[1;34m(self, x)\u001b[0m\n\u001b[0;32m     15\u001b[0m \u001b[38;5;28;01mdef\u001b[39;00m \u001b[38;5;21mforward\u001b[39m(\u001b[38;5;28mself\u001b[39m, x):\n\u001b[0;32m     16\u001b[0m     \u001b[38;5;28;01mfor\u001b[39;00m layer,activation_fun \u001b[38;5;129;01min\u001b[39;00m \u001b[38;5;28mzip\u001b[39m(\u001b[38;5;28mself\u001b[39m\u001b[38;5;241m.\u001b[39mlayers, \u001b[38;5;28mself\u001b[39m\u001b[38;5;241m.\u001b[39mactivations):\n\u001b[1;32m---> 17\u001b[0m         x \u001b[38;5;241m=\u001b[39m activation_fun(layer(x))\n\u001b[0;32m     18\u001b[0m     \u001b[38;5;28;01mreturn\u001b[39;00m \u001b[38;5;28mself\u001b[39m\u001b[38;5;241m.\u001b[39mreadout(x)\n",
      "File \u001b[1;32mc:\\Users\\apagnih\\AppData\\Local\\miniconda3\\envs\\py312\\Lib\\site-packages\\torch\\nn\\modules\\module.py:1736\u001b[0m, in \u001b[0;36mModule._wrapped_call_impl\u001b[1;34m(self, *args, **kwargs)\u001b[0m\n\u001b[0;32m   1734\u001b[0m     \u001b[38;5;28;01mreturn\u001b[39;00m \u001b[38;5;28mself\u001b[39m\u001b[38;5;241m.\u001b[39m_compiled_call_impl(\u001b[38;5;241m*\u001b[39margs, \u001b[38;5;241m*\u001b[39m\u001b[38;5;241m*\u001b[39mkwargs)  \u001b[38;5;66;03m# type: ignore[misc]\u001b[39;00m\n\u001b[0;32m   1735\u001b[0m \u001b[38;5;28;01melse\u001b[39;00m:\n\u001b[1;32m-> 1736\u001b[0m     \u001b[38;5;28;01mreturn\u001b[39;00m \u001b[38;5;28mself\u001b[39m\u001b[38;5;241m.\u001b[39m_call_impl(\u001b[38;5;241m*\u001b[39margs, \u001b[38;5;241m*\u001b[39m\u001b[38;5;241m*\u001b[39mkwargs)\n",
      "File \u001b[1;32mc:\\Users\\apagnih\\AppData\\Local\\miniconda3\\envs\\py312\\Lib\\site-packages\\torch\\nn\\modules\\module.py:1747\u001b[0m, in \u001b[0;36mModule._call_impl\u001b[1;34m(self, *args, **kwargs)\u001b[0m\n\u001b[0;32m   1742\u001b[0m \u001b[38;5;66;03m# If we don't have any hooks, we want to skip the rest of the logic in\u001b[39;00m\n\u001b[0;32m   1743\u001b[0m \u001b[38;5;66;03m# this function, and just call forward.\u001b[39;00m\n\u001b[0;32m   1744\u001b[0m \u001b[38;5;28;01mif\u001b[39;00m \u001b[38;5;129;01mnot\u001b[39;00m (\u001b[38;5;28mself\u001b[39m\u001b[38;5;241m.\u001b[39m_backward_hooks \u001b[38;5;129;01mor\u001b[39;00m \u001b[38;5;28mself\u001b[39m\u001b[38;5;241m.\u001b[39m_backward_pre_hooks \u001b[38;5;129;01mor\u001b[39;00m \u001b[38;5;28mself\u001b[39m\u001b[38;5;241m.\u001b[39m_forward_hooks \u001b[38;5;129;01mor\u001b[39;00m \u001b[38;5;28mself\u001b[39m\u001b[38;5;241m.\u001b[39m_forward_pre_hooks\n\u001b[0;32m   1745\u001b[0m         \u001b[38;5;129;01mor\u001b[39;00m _global_backward_pre_hooks \u001b[38;5;129;01mor\u001b[39;00m _global_backward_hooks\n\u001b[0;32m   1746\u001b[0m         \u001b[38;5;129;01mor\u001b[39;00m _global_forward_hooks \u001b[38;5;129;01mor\u001b[39;00m _global_forward_pre_hooks):\n\u001b[1;32m-> 1747\u001b[0m     \u001b[38;5;28;01mreturn\u001b[39;00m forward_call(\u001b[38;5;241m*\u001b[39margs, \u001b[38;5;241m*\u001b[39m\u001b[38;5;241m*\u001b[39mkwargs)\n\u001b[0;32m   1749\u001b[0m result \u001b[38;5;241m=\u001b[39m \u001b[38;5;28;01mNone\u001b[39;00m\n\u001b[0;32m   1750\u001b[0m called_always_called_hooks \u001b[38;5;241m=\u001b[39m \u001b[38;5;28mset\u001b[39m()\n",
      "File \u001b[1;32mc:\\Users\\apagnih\\AppData\\Local\\miniconda3\\envs\\py312\\Lib\\site-packages\\torch\\nn\\modules\\linear.py:125\u001b[0m, in \u001b[0;36mLinear.forward\u001b[1;34m(self, input)\u001b[0m\n\u001b[0;32m    124\u001b[0m \u001b[38;5;28;01mdef\u001b[39;00m \u001b[38;5;21mforward\u001b[39m(\u001b[38;5;28mself\u001b[39m, \u001b[38;5;28minput\u001b[39m: Tensor) \u001b[38;5;241m-\u001b[39m\u001b[38;5;241m>\u001b[39m Tensor:\n\u001b[1;32m--> 125\u001b[0m     \u001b[38;5;28;01mreturn\u001b[39;00m F\u001b[38;5;241m.\u001b[39mlinear(\u001b[38;5;28minput\u001b[39m, \u001b[38;5;28mself\u001b[39m\u001b[38;5;241m.\u001b[39mweight, \u001b[38;5;28mself\u001b[39m\u001b[38;5;241m.\u001b[39mbias)\n",
      "\u001b[1;31mRuntimeError\u001b[0m: mat1 and mat2 shapes cannot be multiplied (1x2 and 3x8)"
     ]
    }
   ],
   "source": [
    "plot_max_q_values(q_agent.Q, env)"
   ]
  },
  {
   "cell_type": "markdown",
   "metadata": {},
   "source": [
    "## Pendulum Env"
   ]
  },
  {
   "cell_type": "markdown",
   "metadata": {},
   "source": [
    "Observation space:\n",
    "\n",
    "0 angle\n",
    "\n",
    "1 angular velocity"
   ]
  },
  {
   "cell_type": "markdown",
   "metadata": {
    "ExecuteTime": {
     "end_time": "2020-12-21T19:33:42.687725Z",
     "start_time": "2020-12-21T19:33:42.681341Z"
    }
   },
   "source": [
    "Do that for the pendulum function. Does it look like you expect?"
   ]
  },
  {
   "cell_type": "markdown",
   "metadata": {},
   "source": [
    "Do that for the pendulum function. Does it look like you expect"
   ]
  },
  {
   "cell_type": "code",
   "execution_count": null,
   "metadata": {},
   "outputs": [],
   "source": []
  },
  {
   "cell_type": "markdown",
   "metadata": {},
   "source": [
    "## Cartpole Env"
   ]
  },
  {
   "cell_type": "markdown",
   "metadata": {},
   "source": [
    "Observation space:\n",
    " \n",
    "0       Cart Position             -4.8                    4.8\n",
    "\n",
    "1       Cart Velocity             -Inf                    Inf\n",
    "\n",
    "2       Pole Angle                -0.418 rad (-24 deg)    0.418 rad (24 deg)\n",
    "\n",
    "3       Pole Angular Velocity     -Inf                    Inf"
   ]
  },
  {
   "cell_type": "markdown",
   "metadata": {},
   "source": [
    "Try to adapt the plotting function that it also works in higher input spaces where all other inputs are 0"
   ]
  },
  {
   "cell_type": "code",
   "execution_count": null,
   "metadata": {
    "ExecuteTime": {
     "end_time": "2020-12-21T18:54:50.314898Z",
     "start_time": "2020-12-21T18:54:49.995191Z"
    }
   },
   "outputs": [],
   "source": [
    "figQ = plot_Q_function_generic(q_agent.Q, input_dims=o_space.shape[0], plot_dim1=0, plot_dim2=2, \n",
    "                       label_dim1=\"Cart Pos\", label_dim2=\"Pole Angle\")"
   ]
  },
  {
   "cell_type": "code",
   "execution_count": null,
   "metadata": {
    "ExecuteTime": {
     "end_time": "2020-12-21T18:55:35.601378Z",
     "start_time": "2020-12-21T18:55:35.249950Z"
    }
   },
   "outputs": [],
   "source": [
    "figQ = plot_Q_function_generic(q_agent.Q, input_dims=o_space.shape[0], plot_dim1=0, plot_dim2=1, \n",
    "                       label_dim1=\"Cart Pos\", label_dim2=\"Cart Vel\")"
   ]
  },
  {
   "cell_type": "code",
   "execution_count": null,
   "metadata": {
    "ExecuteTime": {
     "end_time": "2020-12-21T18:56:35.399287Z",
     "start_time": "2020-12-21T18:56:35.347982Z"
    }
   },
   "outputs": [],
   "source": [
    "figQ = plot_Q_function_generic(q_agent.Q, input_dims=o_space.shape[0], plot_dim1=2, plot_dim2=3, \n",
    "                       label_dim1=\"Pol Angle\", label_dim2=\"Pole Vel\")"
   ]
  },
  {
   "cell_type": "code",
   "execution_count": null,
   "metadata": {
    "ExecuteTime": {
     "end_time": "2020-12-21T18:56:34.123769Z",
     "start_time": "2020-12-21T18:56:34.108294Z"
    }
   },
   "outputs": [],
   "source": [
    "%matplotlib notebook"
   ]
  },
  {
   "cell_type": "code",
   "execution_count": null,
   "metadata": {},
   "outputs": [],
   "source": [
    "# env_name = 'Acrobot-v1'\n",
    "# env_name = 'MountainCar-v0'\n",
    "# env_name = 'LunarLander-v2'"
   ]
  }
 ],
 "metadata": {
  "kernelspec": {
   "display_name": "py312",
   "language": "python",
   "name": "python3"
  },
  "language_info": {
   "codemirror_mode": {
    "name": "ipython",
    "version": 3
   },
   "file_extension": ".py",
   "mimetype": "text/x-python",
   "name": "python",
   "nbconvert_exporter": "python",
   "pygments_lexer": "ipython3",
   "version": "3.12.7"
  },
  "toc": {
   "base_numbering": 1,
   "nav_menu": {},
   "number_sections": true,
   "sideBar": true,
   "skip_h1_title": false,
   "title_cell": "Table of Contents",
   "title_sidebar": "Contents",
   "toc_cell": false,
   "toc_position": {},
   "toc_section_display": true,
   "toc_window_display": false
  }
 },
 "nbformat": 4,
 "nbformat_minor": 1
}

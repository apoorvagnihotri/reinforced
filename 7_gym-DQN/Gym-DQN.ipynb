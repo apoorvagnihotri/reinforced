{
 "cells": [
  {
   "cell_type": "code",
   "execution_count": null,
   "metadata": {
    "ExecuteTime": {
     "end_time": "2020-12-21T18:05:51.257918Z",
     "start_time": "2020-12-21T18:05:51.251728Z"
    }
   },
   "outputs": [],
   "source": [
    "import gymnasium as gym\n",
    "from gymnasium import spaces\n",
    "import numpy as np\n",
    "import itertools\n",
    "import time\n",
    "import torch\n",
    "import pylab as plt\n",
    "# %matplotlib inline\n",
    "# %matplotlib notebook\n",
    "from mpl_toolkits.mplot3d import Axes3D\n",
    "from matplotlib import cm\n",
    "\n",
    "import memory as mem   \n",
    "from feedforward import Feedforward"
   ]
  },
  {
   "cell_type": "markdown",
   "metadata": {},
   "source": [
    "## Helper Functions"
   ]
  },
  {
   "cell_type": "code",
   "execution_count": null,
   "metadata": {
    "ExecuteTime": {
     "end_time": "2020-12-21T18:06:39.417731Z",
     "start_time": "2020-12-21T18:06:39.410580Z"
    }
   },
   "outputs": [],
   "source": [
    "def running_mean(x, N):\n",
    "    cumsum = np.cumsum(np.insert(x, 0, 0)) \n",
    "    return (cumsum[N:] - cumsum[:-N]) / float(N)"
   ]
  },
  {
   "cell_type": "code",
   "execution_count": null,
   "metadata": {},
   "outputs": [],
   "source": [
    "class DiscreteActionWrapper(gym.ActionWrapper):\n",
    "    def __init__(self, env: gym.Env, bins = 5):\n",
    "        \"\"\"A wrapper for converting a 1D continuous actions into discrete ones.\n",
    "        Args:\n",
    "            env: The environment to apply the wrapper\n",
    "            bins: number of discrete actions\n",
    "        \"\"\"\n",
    "        assert isinstance(env.action_space, spaces.Box)\n",
    "        super().__init__(env)\n",
    "        self.bins = bins\n",
    "        self.orig_action_space = env.action_space\n",
    "        self.action_space = spaces.Discrete(self.bins)\n",
    "\n",
    "    def action(self, action):\n",
    "        \"\"\" discrete actions from low to high in 'bins'\n",
    "        Args:\n",
    "            action: The discrete action\n",
    "        Returns:\n",
    "            continuous action\n",
    "        \"\"\"\n",
    "        return self.orig_action_space.low + action/(self.bins-1.0)*(self.orig_action_space.high-self.orig_action_space.low)  "
   ]
  },
  {
   "cell_type": "markdown",
   "metadata": {},
   "source": [
    "# DQN"
   ]
  },
  {
   "cell_type": "markdown",
   "metadata": {},
   "source": [
    "Complete the implemenation of DQN with a main Q-network and a target Q-network"
   ]
  },
  {
   "cell_type": "code",
   "execution_count": null,
   "metadata": {
    "ExecuteTime": {
     "end_time": "2020-12-21T18:59:28.812749Z",
     "start_time": "2020-12-21T18:59:28.796517Z"
    }
   },
   "outputs": [],
   "source": [
    "\"\"\" Q Network, input: observations, output: q-values for all actions \"\"\"\n",
    "class QFunction(Feedforward):\n",
    "    def __init__(self, observation_dim, action_dim, \n",
    "                 hidden_sizes=[100,100], learning_rate = 0.0002):\n",
    "        super().__init__(input_size=observation_dim, \n",
    "                         hidden_sizes=hidden_sizes, \n",
    "                         output_size=action_dim)\n",
    "        self.optimizer=torch.optim.Adam(self.parameters(), \n",
    "                                        lr=learning_rate, \n",
    "                                        eps=0.000001)\n",
    "        # The L1 loss is often easier for choosing learning rates etc than for L2 (MSELoss)\n",
    "        #  Imagine larger q-values (in the hundreds) then an squared error can quickly be 10000!, \n",
    "        #  whereas the L1 (absolute) error is simply in the order of 100. \n",
    "        self.loss = torch.nn.SmoothL1Loss()\n",
    "        \n",
    "    def fit(self, observations, actions, targets):\n",
    "        # TODO: complete this\n",
    "        return loss.item()\n",
    "    \n",
    "    def Q_value(self, observations, actions):\n",
    "        # compute the Q value for the give actions\n",
    "        # Hint: use the torch.gather function select the right outputs \n",
    "        # Complete this\n",
    "        return         \n",
    "    \n",
    "    def maxQ(self, observations):\n",
    "        # compute the maximal Q-value\n",
    "        # Complete this\n",
    "        return \n",
    "    \n",
    "    def greedyAction(self, observations):\n",
    "        # this computes the greedy action\n",
    "        return np.argmax(self.predict(observations), axis=-1)"
   ]
  },
  {
   "cell_type": "code",
   "execution_count": null,
   "metadata": {
    "ExecuteTime": {
     "end_time": "2020-12-21T19:24:52.568800Z",
     "start_time": "2020-12-21T19:24:52.557112Z"
    }
   },
   "outputs": [],
   "source": [
    "class DQNAgent(object):\n",
    "    \"\"\"\n",
    "    Agent implementing Q-learning with NN function approximation.    \n",
    "    \"\"\"\n",
    "    def __init__(self, observation_space, action_space, **userconfig):\n",
    "        \n",
    "        if not isinstance(observation_space, spaces.box.Box):\n",
    "            raise UnsupportedSpace('Observation space {} incompatible ' \\\n",
    "                                   'with {}. (Require: Box)'.format(observation_space, self))\n",
    "        if not isinstance(action_space, spaces.discrete.Discrete):\n",
    "            raise UnsupportedSpace('Action space {} incompatible with {}.' \\\n",
    "                                   ' (Reqire Discrete.)'.format(action_space, self))\n",
    "        \n",
    "        self._observation_space = observation_space\n",
    "        self._action_space = action_space\n",
    "        self._action_n = action_space.n\n",
    "        self._config = {\n",
    "            \"eps\": 0.05,            # Epsilon in epsilon greedy policies                        \n",
    "            \"discount\": 0.95,\n",
    "            \"buffer_size\": int(1e5),\n",
    "            \"batch_size\": 128,\n",
    "            \"learning_rate\": 0.0002, \n",
    "            # add additional parameters here        \n",
    "        }\n",
    "        self._config.update(userconfig)        \n",
    "        self._eps = self._config['eps']\n",
    "        self.buffer = mem.Memory(max_size=self._config[\"buffer_size\"])\n",
    "        \n",
    "        # complete here\n",
    "        self.train_iter = 0\n",
    "            \n",
    "    def _update_target_net(self):        \n",
    "        # complete here\n",
    "        # Hint: use load_state_dict() and state_dict() functions\n",
    "        pass \n",
    "    \n",
    "    def act(self, observation, eps=None):\n",
    "        if eps is None:\n",
    "            eps = self._eps\n",
    "        # epsilon greedy\n",
    "        if np.random.random() > eps:\n",
    "            action = self.Q.greedyAction(observation)\n",
    "        else: \n",
    "            action = self._action_space.sample()        \n",
    "        return action\n",
    "    \n",
    "    def store_transition(self, transition):\n",
    "        self.buffer.add_transition(transition)\n",
    "            \n",
    "    def train(self, iter_fit=32):\n",
    "        losses = []\n",
    "        # complete this! \n",
    "        # Hint: look at last exercise's solution\n",
    "        # Hint: while developing print the shape of !all! tensors/arrays to make sure \n",
    "        #  they have the right shape: (batchsize, X)  \n",
    "        \n",
    "        # Hint: for the target network, update its parameters at the beginning of this function \n",
    "        # every k  train calls. \n",
    "        \n",
    "        # Hint:\n",
    "        for i in range(iter_fit):\n",
    "            # ....\n",
    "            \n",
    "            losses.append(fit_loss)    \n",
    "        return losses"
   ]
  },
  {
   "cell_type": "markdown",
   "metadata": {},
   "source": [
    "## Test in Env"
   ]
  },
  {
   "cell_type": "code",
   "execution_count": null,
   "metadata": {
    "ExecuteTime": {
     "end_time": "2020-12-21T19:02:22.784840Z",
     "start_time": "2020-12-21T19:02:22.774564Z"
    }
   },
   "outputs": [],
   "source": [
    "env_name = 'Pendulum-v1'\n",
    "# env_name = 'CartPole-v1'\n",
    "\n",
    "env = gym.make(env_name)\n",
    "if isinstance(env.action_space, spaces.Box):\n",
    "    env = DiscreteActionWrapper(env,5)\n",
    "\n",
    "ac_space = env.action_space\n",
    "o_space = env.observation_space\n",
    "print(ac_space)\n",
    "print(o_space)\n",
    "print(list(zip(env.observation_space.low, env.observation_space.high)))"
   ]
  },
  {
   "cell_type": "code",
   "execution_count": null,
   "metadata": {
    "ExecuteTime": {
     "end_time": "2020-12-21T19:02:23.234105Z",
     "start_time": "2020-12-21T19:02:23.223995Z"
    },
    "scrolled": true
   },
   "outputs": [],
   "source": [
    "q_agent = DQNAgent(o_space, ac_space, discount=0.95, eps=0.2)"
   ]
  },
  {
   "cell_type": "code",
   "execution_count": null,
   "metadata": {
    "ExecuteTime": {
     "end_time": "2020-12-21T19:02:23.835298Z",
     "start_time": "2020-12-21T19:02:23.825910Z"
    }
   },
   "outputs": [],
   "source": [
    "ob,_info = env.reset()\n",
    "q_agent.Q.predict(ob)"
   ]
  },
  {
   "cell_type": "markdown",
   "metadata": {},
   "source": [
    "Train the agent!"
   ]
  },
  {
   "cell_type": "code",
   "execution_count": null,
   "metadata": {
    "ExecuteTime": {
     "end_time": "2020-12-21T19:02:24.886780Z",
     "start_time": "2020-12-21T19:02:24.882514Z"
    }
   },
   "outputs": [],
   "source": [
    "stats = []\n",
    "losses = []"
   ]
  },
  {
   "cell_type": "code",
   "execution_count": null,
   "metadata": {
    "ExecuteTime": {
     "end_time": "2020-12-21T19:03:37.085509Z",
     "start_time": "2020-12-21T19:02:25.394222Z"
    }
   },
   "outputs": [],
   "source": [
    "max_episodes=600\n",
    "max_steps=500 \n",
    "for i in range(max_episodes):\n",
    "    # print(\"Starting a new episode\")    \n",
    "    total_reward = 0\n",
    "    ob, _info = env.reset()\n",
    "    for t in range(max_steps):\n",
    "        done = False        \n",
    "        a = q_agent.act(ob)\n",
    "        (ob_new, reward, done, trunc, _info) = env.step(a)\n",
    "        total_reward+= reward\n",
    "        q_agent.store_transition((ob, a, reward, ob_new, done))            \n",
    "        ob=ob_new        \n",
    "        if done: break    \n",
    "    losses.extend(q_agent.train(32))\n",
    "    stats.append([i,total_reward,t+1])    \n",
    "    \n",
    "    if ((i-1)%20==0):\n",
    "        print(\"{}: Done after {} steps. Reward: {}\".format(i, t+1, total_reward))"
   ]
  },
  {
   "cell_type": "markdown",
   "metadata": {
    "ExecuteTime": {
     "end_time": "2020-12-21T19:29:28.951108Z",
     "start_time": "2020-12-21T19:29:28.946226Z"
    }
   },
   "source": [
    "Plot the training reward over time. Use the running_mean(array, window_size) to plot a smooth version "
   ]
  },
  {
   "cell_type": "code",
   "execution_count": null,
   "metadata": {
    "ExecuteTime": {
     "end_time": "2020-12-21T19:29:48.979748Z",
     "start_time": "2020-12-21T19:29:48.974261Z"
    }
   },
   "outputs": [],
   "source": [
    "stats_np = np.asarray(stats)\n",
    "\n",
    "pass"
   ]
  },
  {
   "cell_type": "code",
   "execution_count": null,
   "metadata": {
    "ExecuteTime": {
     "end_time": "2020-12-21T19:30:10.718611Z",
     "start_time": "2020-12-21T19:30:10.713607Z"
    }
   },
   "outputs": [],
   "source": [
    "losses_np = np.asarray(losses)\n",
    "pass "
   ]
  },
  {
   "cell_type": "code",
   "execution_count": null,
   "metadata": {
    "ExecuteTime": {
     "end_time": "2020-12-21T19:30:15.428055Z",
     "start_time": "2020-12-21T19:30:15.419265Z"
    }
   },
   "outputs": [],
   "source": [
    "q_agent.buffer.size"
   ]
  },
  {
   "cell_type": "markdown",
   "metadata": {},
   "source": [
    "## Evaluate (without exploration)"
   ]
  },
  {
   "cell_type": "markdown",
   "metadata": {},
   "source": [
    "Please look at the behavior for a small number of episodes"
   ]
  },
  {
   "cell_type": "code",
   "execution_count": null,
   "metadata": {},
   "outputs": [],
   "source": [
    "env_eval = gym.make(env_name, render_mode=\"human\")\n",
    "if isinstance(env.action_space, spaces.Box):\n",
    "    env_eval = DiscreteActionWrapper(env_eval,5)"
   ]
  },
  {
   "cell_type": "code",
   "execution_count": null,
   "metadata": {
    "ExecuteTime": {
     "end_time": "2020-12-21T19:04:24.675613Z",
     "start_time": "2020-12-21T19:04:23.832884Z"
    }
   },
   "outputs": [],
   "source": [
    "test_stats = []\n",
    "episodes=50\n",
    "env_ = env    # without rendering\n",
    "#env_ = env_eval # with rendering\n",
    "\n",
    "for i in range(episodes):\n",
    "    total_reward = 0\n",
    "    ob, _info = env_.reset()\n",
    "    for t in range(max_steps):\n",
    "        done = False        \n",
    "        a = q_agent.act(ob, eps=0.0)\n",
    "        (ob_new, reward, done, trunc, _info) = env_.step(a)\n",
    "        total_reward+= reward\n",
    "        ob=ob_new        \n",
    "        if done: break    \n",
    "    test_stats.append([i,total_reward,t+1])        "
   ]
  },
  {
   "cell_type": "markdown",
   "metadata": {},
   "source": [
    "Evaluate mean and standard deviation of performance \n",
    "\n",
    "(for the Pendulum: an average return around -30 or better should be achieved)\n",
    "\n",
    "(for the CartPendulum it is possible to get 200)"
   ]
  },
  {
   "cell_type": "code",
   "execution_count": null,
   "metadata": {
    "ExecuteTime": {
     "end_time": "2020-12-21T19:32:07.922653Z",
     "start_time": "2020-12-21T19:32:07.918689Z"
    }
   },
   "outputs": [],
   "source": [
    "pass"
   ]
  },
  {
   "cell_type": "markdown",
   "metadata": {},
   "source": [
    "# Visualize"
   ]
  },
  {
   "cell_type": "markdown",
   "metadata": {},
   "source": [
    "Visualization of the value function."
   ]
  },
  {
   "cell_type": "code",
   "execution_count": null,
   "metadata": {},
   "outputs": [],
   "source": [
    "Adapt the value_function plotting from last time to plot the maxQ value"
   ]
  },
  {
   "cell_type": "markdown",
   "metadata": {},
   "source": [
    "## Pendulum Env"
   ]
  },
  {
   "cell_type": "markdown",
   "metadata": {},
   "source": [
    "Observation space:\n",
    "\n",
    "0 angle\n",
    "\n",
    "1 angular velocity"
   ]
  },
  {
   "cell_type": "markdown",
   "metadata": {
    "ExecuteTime": {
     "end_time": "2020-12-21T19:33:42.687725Z",
     "start_time": "2020-12-21T19:33:42.681341Z"
    }
   },
   "source": [
    "Do that for the pendulum function. Does it look like you expect?"
   ]
  },
  {
   "cell_type": "markdown",
   "metadata": {},
   "source": [
    "Do that for the pendulum function. Does it look like you expect"
   ]
  },
  {
   "cell_type": "code",
   "execution_count": null,
   "metadata": {},
   "outputs": [],
   "source": []
  },
  {
   "cell_type": "markdown",
   "metadata": {},
   "source": [
    "## Cartpole Env"
   ]
  },
  {
   "cell_type": "markdown",
   "metadata": {},
   "source": [
    "Observation space:\n",
    " \n",
    "0       Cart Position             -4.8                    4.8\n",
    "\n",
    "1       Cart Velocity             -Inf                    Inf\n",
    "\n",
    "2       Pole Angle                -0.418 rad (-24 deg)    0.418 rad (24 deg)\n",
    "\n",
    "3       Pole Angular Velocity     -Inf                    Inf"
   ]
  },
  {
   "cell_type": "markdown",
   "metadata": {},
   "source": [
    "Try to adapt the plotting function that it also works in higher input spaces where all other inputs are 0"
   ]
  },
  {
   "cell_type": "code",
   "execution_count": null,
   "metadata": {
    "ExecuteTime": {
     "end_time": "2020-12-21T18:54:50.314898Z",
     "start_time": "2020-12-21T18:54:49.995191Z"
    }
   },
   "outputs": [],
   "source": [
    "figQ = plot_Q_function_generic(q_agent.Q, input_dims=o_space.shape[0], plot_dim1=0, plot_dim2=2, \n",
    "                       label_dim1=\"Cart Pos\", label_dim2=\"Pole Angle\")"
   ]
  },
  {
   "cell_type": "code",
   "execution_count": null,
   "metadata": {
    "ExecuteTime": {
     "end_time": "2020-12-21T18:55:35.601378Z",
     "start_time": "2020-12-21T18:55:35.249950Z"
    }
   },
   "outputs": [],
   "source": [
    "figQ = plot_Q_function_generic(q_agent.Q, input_dims=o_space.shape[0], plot_dim1=0, plot_dim2=1, \n",
    "                       label_dim1=\"Cart Pos\", label_dim2=\"Cart Vel\")"
   ]
  },
  {
   "cell_type": "code",
   "execution_count": null,
   "metadata": {
    "ExecuteTime": {
     "end_time": "2020-12-21T18:56:35.399287Z",
     "start_time": "2020-12-21T18:56:35.347982Z"
    }
   },
   "outputs": [],
   "source": [
    "figQ = plot_Q_function_generic(q_agent.Q, input_dims=o_space.shape[0], plot_dim1=2, plot_dim2=3, \n",
    "                       label_dim1=\"Pol Angle\", label_dim2=\"Pole Vel\")"
   ]
  },
  {
   "cell_type": "code",
   "execution_count": null,
   "metadata": {
    "ExecuteTime": {
     "end_time": "2020-12-21T18:56:34.123769Z",
     "start_time": "2020-12-21T18:56:34.108294Z"
    }
   },
   "outputs": [],
   "source": [
    "%matplotlib notebook"
   ]
  },
  {
   "cell_type": "code",
   "execution_count": null,
   "metadata": {},
   "outputs": [],
   "source": [
    "# env_name = 'Acrobot-v1'\n",
    "# env_name = 'MountainCar-v0'\n",
    "# env_name = 'LunarLander-v2'"
   ]
  }
 ],
 "metadata": {
  "kernelspec": {
   "display_name": "Gym-RL",
   "language": "python",
   "name": "gym-rl"
  },
  "language_info": {
   "codemirror_mode": {
    "name": "ipython",
    "version": 3
   },
   "file_extension": ".py",
   "mimetype": "text/x-python",
   "name": "python",
   "nbconvert_exporter": "python",
   "pygments_lexer": "ipython3",
   "version": "3.10.6"
  },
  "toc": {
   "base_numbering": 1,
   "nav_menu": {},
   "number_sections": true,
   "sideBar": true,
   "skip_h1_title": false,
   "title_cell": "Table of Contents",
   "title_sidebar": "Contents",
   "toc_cell": false,
   "toc_position": {},
   "toc_section_display": true,
   "toc_window_display": false
  }
 },
 "nbformat": 4,
 "nbformat_minor": 1
}

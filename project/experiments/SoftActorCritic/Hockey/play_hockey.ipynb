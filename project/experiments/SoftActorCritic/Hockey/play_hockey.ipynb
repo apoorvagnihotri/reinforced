{
 "cells": [
  {
   "cell_type": "code",
   "execution_count": 1,
   "id": "61ee66e7-b80a-4486-a4b0-51d61d932c19",
   "metadata": {},
   "outputs": [
    {
     "name": "stdout",
     "output_type": "stream",
     "text": [
      "Using device: cpu\n"
     ]
    }
   ],
   "source": [
    "import numpy as np\n",
    "import hockey.hockey_env as h_env\n",
    "import gymnasium as gym\n",
    "from importlib import reload\n",
    "import time\n",
    "import torch\n",
    "\n",
    "\n",
    "import torch\n",
    "import torch.nn as nn\n",
    "import torch.nn.functional as F\n",
    "import torch.optim as optim\n",
    "from torch.distributions import Normal\n",
    "from torch.distributions import Categorical\n",
    "\n",
    "import gymnasium as gym\n",
    "import pygame\n",
    "import torch\n",
    "\n",
    "import math\n",
    "\n",
    "import numpy as np\n",
    "import collections, random\n",
    "\n",
    "import os\n",
    "import sys\n",
    "\n",
    "import config\n",
    "\n",
    "try:\n",
    "    base_path = os.path.dirname(__file__)\n",
    "except NameError:\n",
    "    base_path = os.getcwd()\n",
    "\n",
    "parent_dir = os.path.abspath(os.path.join(base_path, '..'))\n",
    "if parent_dir not in sys.path:\n",
    "    sys.path.insert(0, parent_dir)\n",
    "\n",
    "from models.memory import ReplayBuffer\n",
    "from models.policy_net import PolicyNet\n",
    "from models.value_net import QNet, compute_target\n",
    "\n"
   ]
  },
  {
   "cell_type": "code",
   "execution_count": 2,
   "id": "48620328-50e7-474a-a566-69b9008f7a2a",
   "metadata": {},
   "outputs": [
    {
     "name": "stderr",
     "output_type": "stream",
     "text": [
      "/Users/gauravniranjan/anaconda3/envs/reinforcement_learning/lib/python3.9/site-packages/gymnasium/envs/registration.py:642: UserWarning: \u001b[33mWARN: Overriding environment Hockey-v0 already in registry.\u001b[0m\n",
      "  logger.warn(f\"Overriding environment {new_spec.id} already in registry.\")\n",
      "/Users/gauravniranjan/anaconda3/envs/reinforcement_learning/lib/python3.9/site-packages/gymnasium/envs/registration.py:642: UserWarning: \u001b[33mWARN: Overriding environment Hockey-One-v0 already in registry.\u001b[0m\n",
      "  logger.warn(f\"Overriding environment {new_spec.id} already in registry.\")\n"
     ]
    },
    {
     "data": {
      "text/plain": [
       "<module 'hockey.hockey_env' from '/Users/gauravniranjan/anaconda3/envs/reinforcement_learning/lib/python3.9/site-packages/hockey/hockey_env.py'>"
      ]
     },
     "execution_count": 2,
     "metadata": {},
     "output_type": "execute_result"
    }
   ],
   "source": [
    "np.set_printoptions(suppress=True)\n",
    "\n",
    "reload(h_env)"
   ]
  },
  {
   "cell_type": "code",
   "execution_count": 3,
   "id": "7cf80a91-c12a-48a8-a0b2-dcd6be3ee711",
   "metadata": {},
   "outputs": [],
   "source": [
    "model_dir = 'runs/TE_4_2025-02-21_23-30-13/models/policy_net.pth'"
   ]
  },
  {
   "cell_type": "code",
   "execution_count": 4,
   "id": "10122fae-aa0b-4e61-acaf-382744578c49",
   "metadata": {},
   "outputs": [],
   "source": [
    "#Since we changed some layer names, we need to rename the old model state dictionary to have the new layer names:\n",
    "def load_new_dict(old_state_dict):\n",
    "\n",
    "    new_state_dict = {}\n",
    "    \n",
    "    for key, value in old_state_dict.items():\n",
    "        new_key = key\n",
    "        if key.startswith(\"fc1\"):\n",
    "            new_key = key.replace(\"fc1\", \"feature_extractor\")\n",
    "        elif key.startswith(\"fc_mu\"):\n",
    "            new_key = key.replace(\"fc_mu\", \"mean_branch\")\n",
    "        elif key.startswith(\"fc_std\"):\n",
    "            new_key = key.replace(\"fc_std\", \"std_branch\")\n",
    "        new_state_dict[new_key] = value\n",
    "        \n",
    "    return new_state_dict"
   ]
  },
  {
   "cell_type": "code",
   "execution_count": 10,
   "id": "a013efad-16ea-4a51-a11d-d0f9794ce86d",
   "metadata": {},
   "outputs": [],
   "source": [
    "def play_hockey(opponent='weak'):\n",
    "    env = h_env.HockeyEnv()\n",
    "    weak_opponent = h_env.BasicOpponent(weak=True)\n",
    "    strong_opponent = h_env.BasicOpponent(weak=False)\n",
    "    state_dim = env.observation_space.shape[0]\n",
    "    action_dim = env.num_actions\n",
    "    \n",
    "    chosen_opponent = weak_opponent\n",
    "    \n",
    "    if opponent == 'strong':\n",
    "        chosen_opponent = strong_opponent\n",
    "\n",
    "    print(f'state_dim: {state_dim},  action_dim: {action_dim}')\n",
    "\n",
    "\n",
    "    pi1 = PolicyNet(config.lr_pi, state_dim, action_dim, config).to(config.device)\n",
    "    \n",
    "    #load old model state dict into new model (only the layer names are changed)\n",
    "    pi1.load_state_dict(load_new_dict(torch.load(model_dir, map_location=config.device)))\n",
    "    pi1.eval()\n",
    "\n",
    "\n",
    "\n",
    "    for n_epi in range(5):\n",
    "        s, _ = env.reset()\n",
    "        done = False\n",
    "        count = 0\n",
    "\n",
    "        score = 0.0\n",
    "\n",
    "        while count < 250 and not done:\n",
    "\n",
    "\n",
    "            a, log_prob= pi1(torch.from_numpy(s).float())\n",
    "            a = a.cpu().detach().numpy()\n",
    "\n",
    "\n",
    "            a2 = chosen_opponent.act(env.obs_agent_two())\n",
    "\n",
    "            s_prime, r, done, truncated, info = env.step(np.hstack([a,a2]))\n",
    "\n",
    "            time.sleep(0.0)\n",
    "\n",
    "            s = s_prime\n",
    "            score += r\n",
    "\n",
    "\n",
    "            env.render()\n",
    "\n",
    "        print(f\"Total score in the episode: {score}\")\n",
    "        \n",
    "    env.close()\n"
   ]
  },
  {
   "cell_type": "code",
   "execution_count": 11,
   "id": "2409a526-dd02-48e9-9298-61925a7da21b",
   "metadata": {},
   "outputs": [
    {
     "name": "stdout",
     "output_type": "stream",
     "text": [
      "state_dim: 18,  action_dim: 4\n"
     ]
    },
    {
     "name": "stderr",
     "output_type": "stream",
     "text": [
      "/var/folders/2p/m351_1_j0s78h8kll_wpyh5w0000gn/T/ipykernel_20729/3169660563.py:19: FutureWarning: You are using `torch.load` with `weights_only=False` (the current default value), which uses the default pickle module implicitly. It is possible to construct malicious pickle data which will execute arbitrary code during unpickling (See https://github.com/pytorch/pytorch/blob/main/SECURITY.md#untrusted-models for more details). In a future release, the default value for `weights_only` will be flipped to `True`. This limits the functions that could be executed during unpickling. Arbitrary objects will no longer be allowed to be loaded via this mode unless they are explicitly allowlisted by the user via `torch.serialization.add_safe_globals`. We recommend you start setting `weights_only=True` for any use case where you don't have full control of the loaded file. Please open an issue on GitHub for any issues related to this experimental feature.\n",
      "  pi1.load_state_dict(load_new_dict(torch.load(model_dir, map_location=config.device)))\n"
     ]
    },
    {
     "name": "stdout",
     "output_type": "stream",
     "text": [
      "Total score in the episode: 9.933419529548235\n",
      "Total score in the episode: 9.310111466444315\n",
      "Total score in the episode: 9.909089329185335\n",
      "Total score in the episode: 9.685592717464392\n",
      "Total score in the episode: 9.867213957041539\n"
     ]
    }
   ],
   "source": [
    "play_hockey(opponent='weak')"
   ]
  },
  {
   "cell_type": "code",
   "execution_count": null,
   "id": "f20f35a1-9141-40ce-9b92-35da7e433f54",
   "metadata": {},
   "outputs": [],
   "source": []
  }
 ],
 "metadata": {
  "kernelspec": {
   "display_name": "reinforcement_learning",
   "language": "python",
   "name": "reinforcement_learning"
  },
  "language_info": {
   "codemirror_mode": {
    "name": "ipython",
    "version": 3
   },
   "file_extension": ".py",
   "mimetype": "text/x-python",
   "name": "python",
   "nbconvert_exporter": "python",
   "pygments_lexer": "ipython3",
   "version": "3.9.20"
  }
 },
 "nbformat": 4,
 "nbformat_minor": 5
}
